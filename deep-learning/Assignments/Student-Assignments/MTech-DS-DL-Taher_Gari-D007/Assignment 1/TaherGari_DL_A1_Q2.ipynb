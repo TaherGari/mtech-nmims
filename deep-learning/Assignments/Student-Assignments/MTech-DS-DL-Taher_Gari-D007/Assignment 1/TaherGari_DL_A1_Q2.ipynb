{
  "nbformat": 4,
  "nbformat_minor": 0,
  "metadata": {
    "colab": {
      "name": "MTech-DS-DL-TaherGari-D007 Assignment 1",
      "provenance": [],
      "collapsed_sections": []
    },
    "kernelspec": {
      "name": "python3",
      "display_name": "Python 3"
    },
    "language_info": {
      "name": "python"
    }
  },
  "cells": [
    {
      "cell_type": "markdown",
      "source": [
        "## **Problem Statement**\n",
        "\n",
        "For any organization, even the slightest chance of financial risk can not be ignored. Organizations conduct regular inspections on their expenditures and revenue to make sure that they do not fall below the critical limit. In this hackathon, you as a data scientist must use the given data to predict whether an organization is under a possible financial risk or not.\n",
        "\n",
        "Given are 7 distinguishing factors that can provide insight into whether an organization may face a financial risk or not. Your objective as a data scientist is to build a machine learning model that can predict if an organization will fall under the risk using the given features."
      ],
      "metadata": {
        "id": "X_sQ_-_hHDVm"
      }
    },
    {
      "cell_type": "code",
      "execution_count": 1,
      "metadata": {
        "id": "iIG03hvVDsBf"
      },
      "outputs": [],
      "source": [
        "import pandas as pd\n",
        "import numpy as np\n",
        "import matplotlib.pyplot as plt\n",
        "import seaborn as sns\n",
        "from sklearn.model_selection import train_test_split\n",
        "from sklearn.preprocessing import OneHotEncoder\n",
        "from sklearn.preprocessing import MinMaxScaler\n",
        "\n",
        "import tensorflow as tf\n",
        "from tensorflow.keras.models import Sequential\n",
        "from tensorflow.keras.layers import InputLayer, Dense, Dropout\n",
        "from keras.callbacks import EarlyStopping\n",
        "\n",
        "from sklearn.metrics import classification_report, confusion_matrix, roc_auc_score, log_loss\n",
        "\n",
        "import warnings\n",
        "warnings.filterwarnings('ignore')"
      ]
    },
    {
      "cell_type": "code",
      "source": [
        "train = pd.read_csv(\"/content/drive/MyDrive/Colab Notebooks/DL/Assignment-1/Train.csv\")\n",
        "test = pd.read_csv(\"/content/drive/MyDrive/Colab Notebooks/DL/Assignment-1/Test.csv\")"
      ],
      "metadata": {
        "id": "UwoLaZ6GD9-O"
      },
      "execution_count": 85,
      "outputs": []
    },
    {
      "cell_type": "code",
      "source": [
        "train.head()"
      ],
      "metadata": {
        "colab": {
          "base_uri": "https://localhost:8080/",
          "height": 270
        },
        "id": "RvOJlg8SEmwg",
        "outputId": "e2e50441-35ab-448e-954d-51d9147a9f6c"
      },
      "execution_count": 86,
      "outputs": [
        {
          "output_type": "execute_result",
          "data": {
            "text/plain": [
              "   City  Location_Score  Internal_Audit_Score  External_Audit_Score  \\\n",
              "0     2           8.032                    14                     8   \n",
              "1    31          77.730                     8                     3   \n",
              "2    40          59.203                     3                    12   \n",
              "3    12          73.080                     4                     5   \n",
              "4     4          15.666                    13                    15   \n",
              "\n",
              "   Fin_Score  Loss_score  Past_Results  IsUnderRisk  \n",
              "0          3           6             0            1  \n",
              "1          3           8             1            0  \n",
              "2         11           3             0            1  \n",
              "3          7           6             0            0  \n",
              "4          6           7             2            1  "
            ],
            "text/html": [
              "\n",
              "  <div id=\"df-1407f173-57b4-4bbd-a7cd-ec8a9c58708e\">\n",
              "    <div class=\"colab-df-container\">\n",
              "      <div>\n",
              "<style scoped>\n",
              "    .dataframe tbody tr th:only-of-type {\n",
              "        vertical-align: middle;\n",
              "    }\n",
              "\n",
              "    .dataframe tbody tr th {\n",
              "        vertical-align: top;\n",
              "    }\n",
              "\n",
              "    .dataframe thead th {\n",
              "        text-align: right;\n",
              "    }\n",
              "</style>\n",
              "<table border=\"1\" class=\"dataframe\">\n",
              "  <thead>\n",
              "    <tr style=\"text-align: right;\">\n",
              "      <th></th>\n",
              "      <th>City</th>\n",
              "      <th>Location_Score</th>\n",
              "      <th>Internal_Audit_Score</th>\n",
              "      <th>External_Audit_Score</th>\n",
              "      <th>Fin_Score</th>\n",
              "      <th>Loss_score</th>\n",
              "      <th>Past_Results</th>\n",
              "      <th>IsUnderRisk</th>\n",
              "    </tr>\n",
              "  </thead>\n",
              "  <tbody>\n",
              "    <tr>\n",
              "      <th>0</th>\n",
              "      <td>2</td>\n",
              "      <td>8.032</td>\n",
              "      <td>14</td>\n",
              "      <td>8</td>\n",
              "      <td>3</td>\n",
              "      <td>6</td>\n",
              "      <td>0</td>\n",
              "      <td>1</td>\n",
              "    </tr>\n",
              "    <tr>\n",
              "      <th>1</th>\n",
              "      <td>31</td>\n",
              "      <td>77.730</td>\n",
              "      <td>8</td>\n",
              "      <td>3</td>\n",
              "      <td>3</td>\n",
              "      <td>8</td>\n",
              "      <td>1</td>\n",
              "      <td>0</td>\n",
              "    </tr>\n",
              "    <tr>\n",
              "      <th>2</th>\n",
              "      <td>40</td>\n",
              "      <td>59.203</td>\n",
              "      <td>3</td>\n",
              "      <td>12</td>\n",
              "      <td>11</td>\n",
              "      <td>3</td>\n",
              "      <td>0</td>\n",
              "      <td>1</td>\n",
              "    </tr>\n",
              "    <tr>\n",
              "      <th>3</th>\n",
              "      <td>12</td>\n",
              "      <td>73.080</td>\n",
              "      <td>4</td>\n",
              "      <td>5</td>\n",
              "      <td>7</td>\n",
              "      <td>6</td>\n",
              "      <td>0</td>\n",
              "      <td>0</td>\n",
              "    </tr>\n",
              "    <tr>\n",
              "      <th>4</th>\n",
              "      <td>4</td>\n",
              "      <td>15.666</td>\n",
              "      <td>13</td>\n",
              "      <td>15</td>\n",
              "      <td>6</td>\n",
              "      <td>7</td>\n",
              "      <td>2</td>\n",
              "      <td>1</td>\n",
              "    </tr>\n",
              "  </tbody>\n",
              "</table>\n",
              "</div>\n",
              "      <button class=\"colab-df-convert\" onclick=\"convertToInteractive('df-1407f173-57b4-4bbd-a7cd-ec8a9c58708e')\"\n",
              "              title=\"Convert this dataframe to an interactive table.\"\n",
              "              style=\"display:none;\">\n",
              "        \n",
              "  <svg xmlns=\"http://www.w3.org/2000/svg\" height=\"24px\"viewBox=\"0 0 24 24\"\n",
              "       width=\"24px\">\n",
              "    <path d=\"M0 0h24v24H0V0z\" fill=\"none\"/>\n",
              "    <path d=\"M18.56 5.44l.94 2.06.94-2.06 2.06-.94-2.06-.94-.94-2.06-.94 2.06-2.06.94zm-11 1L8.5 8.5l.94-2.06 2.06-.94-2.06-.94L8.5 2.5l-.94 2.06-2.06.94zm10 10l.94 2.06.94-2.06 2.06-.94-2.06-.94-.94-2.06-.94 2.06-2.06.94z\"/><path d=\"M17.41 7.96l-1.37-1.37c-.4-.4-.92-.59-1.43-.59-.52 0-1.04.2-1.43.59L10.3 9.45l-7.72 7.72c-.78.78-.78 2.05 0 2.83L4 21.41c.39.39.9.59 1.41.59.51 0 1.02-.2 1.41-.59l7.78-7.78 2.81-2.81c.8-.78.8-2.07 0-2.86zM5.41 20L4 18.59l7.72-7.72 1.47 1.35L5.41 20z\"/>\n",
              "  </svg>\n",
              "      </button>\n",
              "      \n",
              "  <style>\n",
              "    .colab-df-container {\n",
              "      display:flex;\n",
              "      flex-wrap:wrap;\n",
              "      gap: 12px;\n",
              "    }\n",
              "\n",
              "    .colab-df-convert {\n",
              "      background-color: #E8F0FE;\n",
              "      border: none;\n",
              "      border-radius: 50%;\n",
              "      cursor: pointer;\n",
              "      display: none;\n",
              "      fill: #1967D2;\n",
              "      height: 32px;\n",
              "      padding: 0 0 0 0;\n",
              "      width: 32px;\n",
              "    }\n",
              "\n",
              "    .colab-df-convert:hover {\n",
              "      background-color: #E2EBFA;\n",
              "      box-shadow: 0px 1px 2px rgba(60, 64, 67, 0.3), 0px 1px 3px 1px rgba(60, 64, 67, 0.15);\n",
              "      fill: #174EA6;\n",
              "    }\n",
              "\n",
              "    [theme=dark] .colab-df-convert {\n",
              "      background-color: #3B4455;\n",
              "      fill: #D2E3FC;\n",
              "    }\n",
              "\n",
              "    [theme=dark] .colab-df-convert:hover {\n",
              "      background-color: #434B5C;\n",
              "      box-shadow: 0px 1px 3px 1px rgba(0, 0, 0, 0.15);\n",
              "      filter: drop-shadow(0px 1px 2px rgba(0, 0, 0, 0.3));\n",
              "      fill: #FFFFFF;\n",
              "    }\n",
              "  </style>\n",
              "\n",
              "      <script>\n",
              "        const buttonEl =\n",
              "          document.querySelector('#df-1407f173-57b4-4bbd-a7cd-ec8a9c58708e button.colab-df-convert');\n",
              "        buttonEl.style.display =\n",
              "          google.colab.kernel.accessAllowed ? 'block' : 'none';\n",
              "\n",
              "        async function convertToInteractive(key) {\n",
              "          const element = document.querySelector('#df-1407f173-57b4-4bbd-a7cd-ec8a9c58708e');\n",
              "          const dataTable =\n",
              "            await google.colab.kernel.invokeFunction('convertToInteractive',\n",
              "                                                     [key], {});\n",
              "          if (!dataTable) return;\n",
              "\n",
              "          const docLinkHtml = 'Like what you see? Visit the ' +\n",
              "            '<a target=\"_blank\" href=https://colab.research.google.com/notebooks/data_table.ipynb>data table notebook</a>'\n",
              "            + ' to learn more about interactive tables.';\n",
              "          element.innerHTML = '';\n",
              "          dataTable['output_type'] = 'display_data';\n",
              "          await google.colab.output.renderOutput(dataTable, element);\n",
              "          const docLink = document.createElement('div');\n",
              "          docLink.innerHTML = docLinkHtml;\n",
              "          element.appendChild(docLink);\n",
              "        }\n",
              "      </script>\n",
              "    </div>\n",
              "  </div>\n",
              "  "
            ]
          },
          "metadata": {},
          "execution_count": 86
        }
      ]
    },
    {
      "cell_type": "code",
      "source": [
        ""
      ],
      "metadata": {
        "id": "PcxJGChHGg0A"
      },
      "execution_count": 86,
      "outputs": []
    },
    {
      "cell_type": "markdown",
      "source": [
        "## Exploratory Data Analysis"
      ],
      "metadata": {
        "id": "jbR_OG1oHZS7"
      }
    },
    {
      "cell_type": "code",
      "source": [
        "#Checking for Missing Data\n",
        "train.isnull().sum() "
      ],
      "metadata": {
        "colab": {
          "base_uri": "https://localhost:8080/"
        },
        "id": "4cv7bgHRGkFW",
        "outputId": "ce86967b-51b2-48f6-dcd6-96deeb695bf2"
      },
      "execution_count": 87,
      "outputs": [
        {
          "output_type": "execute_result",
          "data": {
            "text/plain": [
              "City                    0\n",
              "Location_Score          0\n",
              "Internal_Audit_Score    0\n",
              "External_Audit_Score    0\n",
              "Fin_Score               0\n",
              "Loss_score              0\n",
              "Past_Results            0\n",
              "IsUnderRisk             0\n",
              "dtype: int64"
            ]
          },
          "metadata": {},
          "execution_count": 87
        }
      ]
    },
    {
      "cell_type": "code",
      "source": [
        "#Checking data types\n",
        "train.dtypes"
      ],
      "metadata": {
        "colab": {
          "base_uri": "https://localhost:8080/"
        },
        "id": "NsLK7pAsHrFC",
        "outputId": "a878053f-7b26-483a-d820-c0303f69f1d4"
      },
      "execution_count": 88,
      "outputs": [
        {
          "output_type": "execute_result",
          "data": {
            "text/plain": [
              "City                      int64\n",
              "Location_Score          float64\n",
              "Internal_Audit_Score      int64\n",
              "External_Audit_Score      int64\n",
              "Fin_Score                 int64\n",
              "Loss_score                int64\n",
              "Past_Results              int64\n",
              "IsUnderRisk               int64\n",
              "dtype: object"
            ]
          },
          "metadata": {},
          "execution_count": 88
        }
      ]
    },
    {
      "cell_type": "markdown",
      "source": [
        "## Univariate Analysis"
      ],
      "metadata": {
        "id": "_m1pca5GH5pw"
      }
    },
    {
      "cell_type": "code",
      "source": [
        "train.describe()"
      ],
      "metadata": {
        "colab": {
          "base_uri": "https://localhost:8080/",
          "height": 364
        },
        "id": "n2VWeWsoHveY",
        "outputId": "57af499b-bc9d-4ef9-f7fe-02614a91a47c"
      },
      "execution_count": 89,
      "outputs": [
        {
          "output_type": "execute_result",
          "data": {
            "text/plain": [
              "             City  Location_Score  Internal_Audit_Score  External_Audit_Score  \\\n",
              "count  543.000000      543.000000            543.000000            543.000000   \n",
              "mean    19.576427       32.259346              8.189687              7.327808   \n",
              "std     14.722687       24.887291              3.312022              3.450667   \n",
              "min      0.000000        5.185000              3.000000              3.000000   \n",
              "25%      6.000000       13.565000              6.000000              5.000000   \n",
              "50%     14.000000       19.803000              8.000000              7.000000   \n",
              "75%     37.000000       62.594000             11.000000             10.000000   \n",
              "max     44.000000       80.809000             15.000000             15.000000   \n",
              "\n",
              "        Fin_Score  Loss_score  Past_Results  IsUnderRisk  \n",
              "count  543.000000  543.000000    543.000000   543.000000  \n",
              "mean     7.046041    5.530387      0.613260     0.626151  \n",
              "std      3.156978    1.839124      0.764509     0.484270  \n",
              "min      3.000000    3.000000      0.000000     0.000000  \n",
              "25%      5.000000    4.000000      0.000000     0.000000  \n",
              "50%      7.000000    6.000000      1.000000     1.000000  \n",
              "75%      8.000000    7.000000      1.000000     1.000000  \n",
              "max     15.000000   13.000000     10.000000     1.000000  "
            ],
            "text/html": [
              "\n",
              "  <div id=\"df-68cfed13-497a-466e-a539-79763ccd9dde\">\n",
              "    <div class=\"colab-df-container\">\n",
              "      <div>\n",
              "<style scoped>\n",
              "    .dataframe tbody tr th:only-of-type {\n",
              "        vertical-align: middle;\n",
              "    }\n",
              "\n",
              "    .dataframe tbody tr th {\n",
              "        vertical-align: top;\n",
              "    }\n",
              "\n",
              "    .dataframe thead th {\n",
              "        text-align: right;\n",
              "    }\n",
              "</style>\n",
              "<table border=\"1\" class=\"dataframe\">\n",
              "  <thead>\n",
              "    <tr style=\"text-align: right;\">\n",
              "      <th></th>\n",
              "      <th>City</th>\n",
              "      <th>Location_Score</th>\n",
              "      <th>Internal_Audit_Score</th>\n",
              "      <th>External_Audit_Score</th>\n",
              "      <th>Fin_Score</th>\n",
              "      <th>Loss_score</th>\n",
              "      <th>Past_Results</th>\n",
              "      <th>IsUnderRisk</th>\n",
              "    </tr>\n",
              "  </thead>\n",
              "  <tbody>\n",
              "    <tr>\n",
              "      <th>count</th>\n",
              "      <td>543.000000</td>\n",
              "      <td>543.000000</td>\n",
              "      <td>543.000000</td>\n",
              "      <td>543.000000</td>\n",
              "      <td>543.000000</td>\n",
              "      <td>543.000000</td>\n",
              "      <td>543.000000</td>\n",
              "      <td>543.000000</td>\n",
              "    </tr>\n",
              "    <tr>\n",
              "      <th>mean</th>\n",
              "      <td>19.576427</td>\n",
              "      <td>32.259346</td>\n",
              "      <td>8.189687</td>\n",
              "      <td>7.327808</td>\n",
              "      <td>7.046041</td>\n",
              "      <td>5.530387</td>\n",
              "      <td>0.613260</td>\n",
              "      <td>0.626151</td>\n",
              "    </tr>\n",
              "    <tr>\n",
              "      <th>std</th>\n",
              "      <td>14.722687</td>\n",
              "      <td>24.887291</td>\n",
              "      <td>3.312022</td>\n",
              "      <td>3.450667</td>\n",
              "      <td>3.156978</td>\n",
              "      <td>1.839124</td>\n",
              "      <td>0.764509</td>\n",
              "      <td>0.484270</td>\n",
              "    </tr>\n",
              "    <tr>\n",
              "      <th>min</th>\n",
              "      <td>0.000000</td>\n",
              "      <td>5.185000</td>\n",
              "      <td>3.000000</td>\n",
              "      <td>3.000000</td>\n",
              "      <td>3.000000</td>\n",
              "      <td>3.000000</td>\n",
              "      <td>0.000000</td>\n",
              "      <td>0.000000</td>\n",
              "    </tr>\n",
              "    <tr>\n",
              "      <th>25%</th>\n",
              "      <td>6.000000</td>\n",
              "      <td>13.565000</td>\n",
              "      <td>6.000000</td>\n",
              "      <td>5.000000</td>\n",
              "      <td>5.000000</td>\n",
              "      <td>4.000000</td>\n",
              "      <td>0.000000</td>\n",
              "      <td>0.000000</td>\n",
              "    </tr>\n",
              "    <tr>\n",
              "      <th>50%</th>\n",
              "      <td>14.000000</td>\n",
              "      <td>19.803000</td>\n",
              "      <td>8.000000</td>\n",
              "      <td>7.000000</td>\n",
              "      <td>7.000000</td>\n",
              "      <td>6.000000</td>\n",
              "      <td>1.000000</td>\n",
              "      <td>1.000000</td>\n",
              "    </tr>\n",
              "    <tr>\n",
              "      <th>75%</th>\n",
              "      <td>37.000000</td>\n",
              "      <td>62.594000</td>\n",
              "      <td>11.000000</td>\n",
              "      <td>10.000000</td>\n",
              "      <td>8.000000</td>\n",
              "      <td>7.000000</td>\n",
              "      <td>1.000000</td>\n",
              "      <td>1.000000</td>\n",
              "    </tr>\n",
              "    <tr>\n",
              "      <th>max</th>\n",
              "      <td>44.000000</td>\n",
              "      <td>80.809000</td>\n",
              "      <td>15.000000</td>\n",
              "      <td>15.000000</td>\n",
              "      <td>15.000000</td>\n",
              "      <td>13.000000</td>\n",
              "      <td>10.000000</td>\n",
              "      <td>1.000000</td>\n",
              "    </tr>\n",
              "  </tbody>\n",
              "</table>\n",
              "</div>\n",
              "      <button class=\"colab-df-convert\" onclick=\"convertToInteractive('df-68cfed13-497a-466e-a539-79763ccd9dde')\"\n",
              "              title=\"Convert this dataframe to an interactive table.\"\n",
              "              style=\"display:none;\">\n",
              "        \n",
              "  <svg xmlns=\"http://www.w3.org/2000/svg\" height=\"24px\"viewBox=\"0 0 24 24\"\n",
              "       width=\"24px\">\n",
              "    <path d=\"M0 0h24v24H0V0z\" fill=\"none\"/>\n",
              "    <path d=\"M18.56 5.44l.94 2.06.94-2.06 2.06-.94-2.06-.94-.94-2.06-.94 2.06-2.06.94zm-11 1L8.5 8.5l.94-2.06 2.06-.94-2.06-.94L8.5 2.5l-.94 2.06-2.06.94zm10 10l.94 2.06.94-2.06 2.06-.94-2.06-.94-.94-2.06-.94 2.06-2.06.94z\"/><path d=\"M17.41 7.96l-1.37-1.37c-.4-.4-.92-.59-1.43-.59-.52 0-1.04.2-1.43.59L10.3 9.45l-7.72 7.72c-.78.78-.78 2.05 0 2.83L4 21.41c.39.39.9.59 1.41.59.51 0 1.02-.2 1.41-.59l7.78-7.78 2.81-2.81c.8-.78.8-2.07 0-2.86zM5.41 20L4 18.59l7.72-7.72 1.47 1.35L5.41 20z\"/>\n",
              "  </svg>\n",
              "      </button>\n",
              "      \n",
              "  <style>\n",
              "    .colab-df-container {\n",
              "      display:flex;\n",
              "      flex-wrap:wrap;\n",
              "      gap: 12px;\n",
              "    }\n",
              "\n",
              "    .colab-df-convert {\n",
              "      background-color: #E8F0FE;\n",
              "      border: none;\n",
              "      border-radius: 50%;\n",
              "      cursor: pointer;\n",
              "      display: none;\n",
              "      fill: #1967D2;\n",
              "      height: 32px;\n",
              "      padding: 0 0 0 0;\n",
              "      width: 32px;\n",
              "    }\n",
              "\n",
              "    .colab-df-convert:hover {\n",
              "      background-color: #E2EBFA;\n",
              "      box-shadow: 0px 1px 2px rgba(60, 64, 67, 0.3), 0px 1px 3px 1px rgba(60, 64, 67, 0.15);\n",
              "      fill: #174EA6;\n",
              "    }\n",
              "\n",
              "    [theme=dark] .colab-df-convert {\n",
              "      background-color: #3B4455;\n",
              "      fill: #D2E3FC;\n",
              "    }\n",
              "\n",
              "    [theme=dark] .colab-df-convert:hover {\n",
              "      background-color: #434B5C;\n",
              "      box-shadow: 0px 1px 3px 1px rgba(0, 0, 0, 0.15);\n",
              "      filter: drop-shadow(0px 1px 2px rgba(0, 0, 0, 0.3));\n",
              "      fill: #FFFFFF;\n",
              "    }\n",
              "  </style>\n",
              "\n",
              "      <script>\n",
              "        const buttonEl =\n",
              "          document.querySelector('#df-68cfed13-497a-466e-a539-79763ccd9dde button.colab-df-convert');\n",
              "        buttonEl.style.display =\n",
              "          google.colab.kernel.accessAllowed ? 'block' : 'none';\n",
              "\n",
              "        async function convertToInteractive(key) {\n",
              "          const element = document.querySelector('#df-68cfed13-497a-466e-a539-79763ccd9dde');\n",
              "          const dataTable =\n",
              "            await google.colab.kernel.invokeFunction('convertToInteractive',\n",
              "                                                     [key], {});\n",
              "          if (!dataTable) return;\n",
              "\n",
              "          const docLinkHtml = 'Like what you see? Visit the ' +\n",
              "            '<a target=\"_blank\" href=https://colab.research.google.com/notebooks/data_table.ipynb>data table notebook</a>'\n",
              "            + ' to learn more about interactive tables.';\n",
              "          element.innerHTML = '';\n",
              "          dataTable['output_type'] = 'display_data';\n",
              "          await google.colab.output.renderOutput(dataTable, element);\n",
              "          const docLink = document.createElement('div');\n",
              "          docLink.innerHTML = docLinkHtml;\n",
              "          element.appendChild(docLink);\n",
              "        }\n",
              "      </script>\n",
              "    </div>\n",
              "  </div>\n",
              "  "
            ]
          },
          "metadata": {},
          "execution_count": 89
        }
      ]
    },
    {
      "cell_type": "code",
      "source": [
        "sns.countplot(train['IsUnderRisk'])\n",
        "plt.title('Count of target variable \"IsUnderRisk\"')\n",
        "plt.show()"
      ],
      "metadata": {
        "colab": {
          "base_uri": "https://localhost:8080/",
          "height": 295
        },
        "id": "g14uWWzWH_BR",
        "outputId": "3b57e121-846d-4f5e-dc8d-5dd8f2c51334"
      },
      "execution_count": 90,
      "outputs": [
        {
          "output_type": "display_data",
          "data": {
            "text/plain": [
              "<Figure size 432x288 with 1 Axes>"
            ],
            "image/png": "[encoded data removed]"
          },
          "metadata": {
            "needs_background": "light"
          }
        }
      ]
    },
    {
      "cell_type": "code",
      "source": [
        "cols = ['Location_Score', 'Internal_Audit_Score', 'External_Audit_Score', 'Fin_Score', 'Loss_score']\n",
        "\n",
        "plt.figure(figsize = (20,15))\n",
        "sns.boxplot(data= train[cols])\n",
        "plt.title('Boxplots for continuous variables')\n",
        "plt.show()"
      ],
      "metadata": {
        "colab": {
          "base_uri": "https://localhost:8080/",
          "height": 546
        },
        "id": "mpitwej8I5O-",
        "outputId": "80df8813-9460-4b5d-ce6c-feb72ec04082"
      },
      "execution_count": 91,
      "outputs": [
        {
          "output_type": "display_data",
          "data": {
            "text/plain": [
              "<Figure size 1440x1080 with 1 Axes>"
            ],
            "image/png": "[encoded data removed]"
          },
          "metadata": {
            "needs_background": "light"
          }
        }
      ]
    },
    {
      "cell_type": "code",
      "source": [
        "clr = sns.color_palette(\"dark\")\n",
        "\n",
        "plt.figure(figsize=(20,10))\n",
        "for i,j in zip(range(1,6),cols):\n",
        "    plt.subplot(2,3,i)\n",
        "    sns.histplot(train[j], label=j, color=clr[i-1])\n",
        "    plt.legend()\n",
        "    plt.plot()"
      ],
      "metadata": {
        "colab": {
          "base_uri": "https://localhost:8080/",
          "height": 372
        },
        "id": "wEbTMpIsJFvN",
        "outputId": "7f73047b-13b9-43bb-9350-5ae6616bf3fb"
      },
      "execution_count": 92,
      "outputs": [
        {
          "output_type": "display_data",
          "data": {
            "text/plain": [
              "<Figure size 1440x720 with 5 Axes>"
            ],
            "image/png": "[encoded data removed]"
          },
          "metadata": {
            "needs_background": "light"
          }
        }
      ]
    },
    {
      "cell_type": "code",
      "source": [
        "plt.figure(figsize = (20,15))\n",
        "\n",
        "plt.subplot(2,1,1)\n",
        "sns.countplot(train['City'], palette = 'dark')\n",
        "plt.title('Counts for discrete variables')\n",
        "\n",
        "plt.subplot(2,1,2)\n",
        "sns.countplot(train['Past_Results'], palette = 'dark')\n",
        "\n",
        "\n",
        "plt.show()"
      ],
      "metadata": {
        "colab": {
          "base_uri": "https://localhost:8080/",
          "height": 546
        },
        "id": "-y537bNxKqfd",
        "outputId": "294f23be-adeb-479b-cc06-fcf1c30459ec"
      },
      "execution_count": 93,
      "outputs": [
        {
          "output_type": "display_data",
          "data": {
            "text/plain": [
              "<Figure size 1440x1080 with 2 Axes>"
            ],
            "image/png": "[encoded data removed]"
          },
          "metadata": {
            "needs_background": "light"
          }
        }
      ]
    },
    {
      "cell_type": "markdown",
      "source": [
        "## Bi-Variate Analysis"
      ],
      "metadata": {
        "id": "nfdc-EKJMqzf"
      }
    },
    {
      "cell_type": "code",
      "source": [
        "plt.figure(figsize=(20,10))\n",
        "corrplot = sns.heatmap(train.corr(), annot = True, square = True)\n",
        "corrplot.set_xticklabels(\n",
        "    corrplot.get_xticklabels(),\n",
        "    rotation=45,\n",
        "    horizontalalignment='right'\n",
        ");"
      ],
      "metadata": {
        "colab": {
          "base_uri": "https://localhost:8080/",
          "height": 603
        },
        "id": "4pNOdFMMLMy1",
        "outputId": "032e4988-b615-4035-b641-a4c5f9a3e245"
      },
      "execution_count": 94,
      "outputs": [
        {
          "output_type": "display_data",
          "data": {
            "text/plain": [
              "<Figure size 1440x720 with 2 Axes>"
            ],
            "image/png": "[encoded data removed]"
          },
          "metadata": {
            "needs_background": "light"
          }
        }
      ]
    },
    {
      "cell_type": "code",
      "source": [
        "X = train.iloc[:,:-1]\n",
        "y=train.iloc[:,-1:]"
      ],
      "metadata": {
        "id": "v7VjlB71ORe4"
      },
      "execution_count": 95,
      "outputs": []
    },
    {
      "cell_type": "code",
      "source": [
        "X.head()"
      ],
      "metadata": {
        "colab": {
          "base_uri": "https://localhost:8080/",
          "height": 270
        },
        "id": "ZAWVb13APWOF",
        "outputId": "6f90af9b-948a-4e99-bc45-5409d73afd57"
      },
      "execution_count": 96,
      "outputs": [
        {
          "output_type": "execute_result",
          "data": {
            "text/plain": [
              "   City  Location_Score  Internal_Audit_Score  External_Audit_Score  \\\n",
              "0     2           8.032                    14                     8   \n",
              "1    31          77.730                     8                     3   \n",
              "2    40          59.203                     3                    12   \n",
              "3    12          73.080                     4                     5   \n",
              "4     4          15.666                    13                    15   \n",
              "\n",
              "   Fin_Score  Loss_score  Past_Results  \n",
              "0          3           6             0  \n",
              "1          3           8             1  \n",
              "2         11           3             0  \n",
              "3          7           6             0  \n",
              "4          6           7             2  "
            ],
            "text/html": [
              "\n",
              "  <div id=\"df-959e808d-a207-4a6a-aad5-0c7bf2965174\">\n",
              "    <div class=\"colab-df-container\">\n",
              "      <div>\n",
              "<style scoped>\n",
              "    .dataframe tbody tr th:only-of-type {\n",
              "        vertical-align: middle;\n",
              "    }\n",
              "\n",
              "    .dataframe tbody tr th {\n",
              "        vertical-align: top;\n",
              "    }\n",
              "\n",
              "    .dataframe thead th {\n",
              "        text-align: right;\n",
              "    }\n",
              "</style>\n",
              "<table border=\"1\" class=\"dataframe\">\n",
              "  <thead>\n",
              "    <tr style=\"text-align: right;\">\n",
              "      <th></th>\n",
              "      <th>City</th>\n",
              "      <th>Location_Score</th>\n",
              "      <th>Internal_Audit_Score</th>\n",
              "      <th>External_Audit_Score</th>\n",
              "      <th>Fin_Score</th>\n",
              "      <th>Loss_score</th>\n",
              "      <th>Past_Results</th>\n",
              "    </tr>\n",
              "  </thead>\n",
              "  <tbody>\n",
              "    <tr>\n",
              "      <th>0</th>\n",
              "      <td>2</td>\n",
              "      <td>8.032</td>\n",
              "      <td>14</td>\n",
              "      <td>8</td>\n",
              "      <td>3</td>\n",
              "      <td>6</td>\n",
              "      <td>0</td>\n",
              "    </tr>\n",
              "    <tr>\n",
              "      <th>1</th>\n",
              "      <td>31</td>\n",
              "      <td>77.730</td>\n",
              "      <td>8</td>\n",
              "      <td>3</td>\n",
              "      <td>3</td>\n",
              "      <td>8</td>\n",
              "      <td>1</td>\n",
              "    </tr>\n",
              "    <tr>\n",
              "      <th>2</th>\n",
              "      <td>40</td>\n",
              "      <td>59.203</td>\n",
              "      <td>3</td>\n",
              "      <td>12</td>\n",
              "      <td>11</td>\n",
              "      <td>3</td>\n",
              "      <td>0</td>\n",
              "    </tr>\n",
              "    <tr>\n",
              "      <th>3</th>\n",
              "      <td>12</td>\n",
              "      <td>73.080</td>\n",
              "      <td>4</td>\n",
              "      <td>5</td>\n",
              "      <td>7</td>\n",
              "      <td>6</td>\n",
              "      <td>0</td>\n",
              "    </tr>\n",
              "    <tr>\n",
              "      <th>4</th>\n",
              "      <td>4</td>\n",
              "      <td>15.666</td>\n",
              "      <td>13</td>\n",
              "      <td>15</td>\n",
              "      <td>6</td>\n",
              "      <td>7</td>\n",
              "      <td>2</td>\n",
              "    </tr>\n",
              "  </tbody>\n",
              "</table>\n",
              "</div>\n",
              "      <button class=\"colab-df-convert\" onclick=\"convertToInteractive('df-959e808d-a207-4a6a-aad5-0c7bf2965174')\"\n",
              "              title=\"Convert this dataframe to an interactive table.\"\n",
              "              style=\"display:none;\">\n",
              "        \n",
              "  <svg xmlns=\"http://www.w3.org/2000/svg\" height=\"24px\"viewBox=\"0 0 24 24\"\n",
              "       width=\"24px\">\n",
              "    <path d=\"M0 0h24v24H0V0z\" fill=\"none\"/>\n",
              "    <path d=\"M18.56 5.44l.94 2.06.94-2.06 2.06-.94-2.06-.94-.94-2.06-.94 2.06-2.06.94zm-11 1L8.5 8.5l.94-2.06 2.06-.94-2.06-.94L8.5 2.5l-.94 2.06-2.06.94zm10 10l.94 2.06.94-2.06 2.06-.94-2.06-.94-.94-2.06-.94 2.06-2.06.94z\"/><path d=\"M17.41 7.96l-1.37-1.37c-.4-.4-.92-.59-1.43-.59-.52 0-1.04.2-1.43.59L10.3 9.45l-7.72 7.72c-.78.78-.78 2.05 0 2.83L4 21.41c.39.39.9.59 1.41.59.51 0 1.02-.2 1.41-.59l7.78-7.78 2.81-2.81c.8-.78.8-2.07 0-2.86zM5.41 20L4 18.59l7.72-7.72 1.47 1.35L5.41 20z\"/>\n",
              "  </svg>\n",
              "      </button>\n",
              "      \n",
              "  <style>\n",
              "    .colab-df-container {\n",
              "      display:flex;\n",
              "      flex-wrap:wrap;\n",
              "      gap: 12px;\n",
              "    }\n",
              "\n",
              "    .colab-df-convert {\n",
              "      background-color: #E8F0FE;\n",
              "      border: none;\n",
              "      border-radius: 50%;\n",
              "      cursor: pointer;\n",
              "      display: none;\n",
              "      fill: #1967D2;\n",
              "      height: 32px;\n",
              "      padding: 0 0 0 0;\n",
              "      width: 32px;\n",
              "    }\n",
              "\n",
              "    .colab-df-convert:hover {\n",
              "      background-color: #E2EBFA;\n",
              "      box-shadow: 0px 1px 2px rgba(60, 64, 67, 0.3), 0px 1px 3px 1px rgba(60, 64, 67, 0.15);\n",
              "      fill: #174EA6;\n",
              "    }\n",
              "\n",
              "    [theme=dark] .colab-df-convert {\n",
              "      background-color: #3B4455;\n",
              "      fill: #D2E3FC;\n",
              "    }\n",
              "\n",
              "    [theme=dark] .colab-df-convert:hover {\n",
              "      background-color: #434B5C;\n",
              "      box-shadow: 0px 1px 3px 1px rgba(0, 0, 0, 0.15);\n",
              "      filter: drop-shadow(0px 1px 2px rgba(0, 0, 0, 0.3));\n",
              "      fill: #FFFFFF;\n",
              "    }\n",
              "  </style>\n",
              "\n",
              "      <script>\n",
              "        const buttonEl =\n",
              "          document.querySelector('#df-959e808d-a207-4a6a-aad5-0c7bf2965174 button.colab-df-convert');\n",
              "        buttonEl.style.display =\n",
              "          google.colab.kernel.accessAllowed ? 'block' : 'none';\n",
              "\n",
              "        async function convertToInteractive(key) {\n",
              "          const element = document.querySelector('#df-959e808d-a207-4a6a-aad5-0c7bf2965174');\n",
              "          const dataTable =\n",
              "            await google.colab.kernel.invokeFunction('convertToInteractive',\n",
              "                                                     [key], {});\n",
              "          if (!dataTable) return;\n",
              "\n",
              "          const docLinkHtml = 'Like what you see? Visit the ' +\n",
              "            '<a target=\"_blank\" href=https://colab.research.google.com/notebooks/data_table.ipynb>data table notebook</a>'\n",
              "            + ' to learn more about interactive tables.';\n",
              "          element.innerHTML = '';\n",
              "          dataTable['output_type'] = 'display_data';\n",
              "          await google.colab.output.renderOutput(dataTable, element);\n",
              "          const docLink = document.createElement('div');\n",
              "          docLink.innerHTML = docLinkHtml;\n",
              "          element.appendChild(docLink);\n",
              "        }\n",
              "      </script>\n",
              "    </div>\n",
              "  </div>\n",
              "  "
            ]
          },
          "metadata": {},
          "execution_count": 96
        }
      ]
    },
    {
      "cell_type": "code",
      "source": [
        "y.head()"
      ],
      "metadata": {
        "colab": {
          "base_uri": "https://localhost:8080/",
          "height": 206
        },
        "id": "kYlV8ZCdPXK0",
        "outputId": "d19b88bb-1f4a-4385-ea94-9e6732a9e263"
      },
      "execution_count": 97,
      "outputs": [
        {
          "output_type": "execute_result",
          "data": {
            "text/plain": [
              "   IsUnderRisk\n",
              "0            1\n",
              "1            0\n",
              "2            1\n",
              "3            0\n",
              "4            1"
            ],
            "text/html": [
              "\n",
              "  <div id=\"df-e29cf026-27d2-413c-b7b6-46e46d436dd5\">\n",
              "    <div class=\"colab-df-container\">\n",
              "      <div>\n",
              "<style scoped>\n",
              "    .dataframe tbody tr th:only-of-type {\n",
              "        vertical-align: middle;\n",
              "    }\n",
              "\n",
              "    .dataframe tbody tr th {\n",
              "        vertical-align: top;\n",
              "    }\n",
              "\n",
              "    .dataframe thead th {\n",
              "        text-align: right;\n",
              "    }\n",
              "</style>\n",
              "<table border=\"1\" class=\"dataframe\">\n",
              "  <thead>\n",
              "    <tr style=\"text-align: right;\">\n",
              "      <th></th>\n",
              "      <th>IsUnderRisk</th>\n",
              "    </tr>\n",
              "  </thead>\n",
              "  <tbody>\n",
              "    <tr>\n",
              "      <th>0</th>\n",
              "      <td>1</td>\n",
              "    </tr>\n",
              "    <tr>\n",
              "      <th>1</th>\n",
              "      <td>0</td>\n",
              "    </tr>\n",
              "    <tr>\n",
              "      <th>2</th>\n",
              "      <td>1</td>\n",
              "    </tr>\n",
              "    <tr>\n",
              "      <th>3</th>\n",
              "      <td>0</td>\n",
              "    </tr>\n",
              "    <tr>\n",
              "      <th>4</th>\n",
              "      <td>1</td>\n",
              "    </tr>\n",
              "  </tbody>\n",
              "</table>\n",
              "</div>\n",
              "      <button class=\"colab-df-convert\" onclick=\"convertToInteractive('df-e29cf026-27d2-413c-b7b6-46e46d436dd5')\"\n",
              "              title=\"Convert this dataframe to an interactive table.\"\n",
              "              style=\"display:none;\">\n",
              "        \n",
              "  <svg xmlns=\"http://www.w3.org/2000/svg\" height=\"24px\"viewBox=\"0 0 24 24\"\n",
              "       width=\"24px\">\n",
              "    <path d=\"M0 0h24v24H0V0z\" fill=\"none\"/>\n",
              "    <path d=\"M18.56 5.44l.94 2.06.94-2.06 2.06-.94-2.06-.94-.94-2.06-.94 2.06-2.06.94zm-11 1L8.5 8.5l.94-2.06 2.06-.94-2.06-.94L8.5 2.5l-.94 2.06-2.06.94zm10 10l.94 2.06.94-2.06 2.06-.94-2.06-.94-.94-2.06-.94 2.06-2.06.94z\"/><path d=\"M17.41 7.96l-1.37-1.37c-.4-.4-.92-.59-1.43-.59-.52 0-1.04.2-1.43.59L10.3 9.45l-7.72 7.72c-.78.78-.78 2.05 0 2.83L4 21.41c.39.39.9.59 1.41.59.51 0 1.02-.2 1.41-.59l7.78-7.78 2.81-2.81c.8-.78.8-2.07 0-2.86zM5.41 20L4 18.59l7.72-7.72 1.47 1.35L5.41 20z\"/>\n",
              "  </svg>\n",
              "      </button>\n",
              "      \n",
              "  <style>\n",
              "    .colab-df-container {\n",
              "      display:flex;\n",
              "      flex-wrap:wrap;\n",
              "      gap: 12px;\n",
              "    }\n",
              "\n",
              "    .colab-df-convert {\n",
              "      background-color: #E8F0FE;\n",
              "      border: none;\n",
              "      border-radius: 50%;\n",
              "      cursor: pointer;\n",
              "      display: none;\n",
              "      fill: #1967D2;\n",
              "      height: 32px;\n",
              "      padding: 0 0 0 0;\n",
              "      width: 32px;\n",
              "    }\n",
              "\n",
              "    .colab-df-convert:hover {\n",
              "      background-color: #E2EBFA;\n",
              "      box-shadow: 0px 1px 2px rgba(60, 64, 67, 0.3), 0px 1px 3px 1px rgba(60, 64, 67, 0.15);\n",
              "      fill: #174EA6;\n",
              "    }\n",
              "\n",
              "    [theme=dark] .colab-df-convert {\n",
              "      background-color: #3B4455;\n",
              "      fill: #D2E3FC;\n",
              "    }\n",
              "\n",
              "    [theme=dark] .colab-df-convert:hover {\n",
              "      background-color: #434B5C;\n",
              "      box-shadow: 0px 1px 3px 1px rgba(0, 0, 0, 0.15);\n",
              "      filter: drop-shadow(0px 1px 2px rgba(0, 0, 0, 0.3));\n",
              "      fill: #FFFFFF;\n",
              "    }\n",
              "  </style>\n",
              "\n",
              "      <script>\n",
              "        const buttonEl =\n",
              "          document.querySelector('#df-e29cf026-27d2-413c-b7b6-46e46d436dd5 button.colab-df-convert');\n",
              "        buttonEl.style.display =\n",
              "          google.colab.kernel.accessAllowed ? 'block' : 'none';\n",
              "\n",
              "        async function convertToInteractive(key) {\n",
              "          const element = document.querySelector('#df-e29cf026-27d2-413c-b7b6-46e46d436dd5');\n",
              "          const dataTable =\n",
              "            await google.colab.kernel.invokeFunction('convertToInteractive',\n",
              "                                                     [key], {});\n",
              "          if (!dataTable) return;\n",
              "\n",
              "          const docLinkHtml = 'Like what you see? Visit the ' +\n",
              "            '<a target=\"_blank\" href=https://colab.research.google.com/notebooks/data_table.ipynb>data table notebook</a>'\n",
              "            + ' to learn more about interactive tables.';\n",
              "          element.innerHTML = '';\n",
              "          dataTable['output_type'] = 'display_data';\n",
              "          await google.colab.output.renderOutput(dataTable, element);\n",
              "          const docLink = document.createElement('div');\n",
              "          docLink.innerHTML = docLinkHtml;\n",
              "          element.appendChild(docLink);\n",
              "        }\n",
              "      </script>\n",
              "    </div>\n",
              "  </div>\n",
              "  "
            ]
          },
          "metadata": {},
          "execution_count": 97
        }
      ]
    },
    {
      "cell_type": "code",
      "source": [
        "scaler = MinMaxScaler()\n",
        "\n",
        "scaler.fit(X)\n",
        "X = scaler.transform(X)"
      ],
      "metadata": {
        "id": "zQTtV7QhTi8T"
      },
      "execution_count": 126,
      "outputs": []
    },
    {
      "cell_type": "code",
      "source": [
        "from sklearn.model_selection import train_test_split\n",
        "X_train, X_test, y_train, y_test = train_test_split(X, y, test_size = 0.2)"
      ],
      "metadata": {
        "id": "xUszsKbCPbm2"
      },
      "execution_count": 127,
      "outputs": []
    },
    {
      "cell_type": "markdown",
      "source": [
        "# DNN - 1"
      ],
      "metadata": {
        "id": "4mlgyaKyQEeU"
      }
    },
    {
      "cell_type": "code",
      "source": [
        "model = tf.keras.Sequential()\n",
        "model.add(Dense(128, input_shape=(7,),activation='relu'))\n",
        "model.add(Dropout(0.2))\n",
        "model.add(Dense(64, activation='relu'))\n",
        "model.add(Dropout(0.2))\n",
        "model.add(Dense(32, activation='relu'))\n",
        "model.add(Dropout(0.2))\n",
        "model.add(Dense(1, activation='sigmoid'))"
      ],
      "metadata": {
        "id": "-V0Gu36wPxQs"
      },
      "execution_count": 128,
      "outputs": []
    },
    {
      "cell_type": "code",
      "source": [
        "model.compile(optimizer ='sgd', loss = 'binary_crossentropy',\n",
        "              metrics=['accuracy'])"
      ],
      "metadata": {
        "id": "FYqYDy9dQr0G"
      },
      "execution_count": 129,
      "outputs": []
    },
    {
      "cell_type": "code",
      "source": [
        "early_stop = EarlyStopping(monitor='val_loss', verbose=1, patience=2)"
      ],
      "metadata": {
        "id": "g6_b_r8cQxrb"
      },
      "execution_count": 130,
      "outputs": []
    },
    {
      "cell_type": "code",
      "source": [
        "history1 = model.fit(x=X_train, y=y_train, epochs=200, \n",
        "                     validation_data=(X_test, y_test), callbacks=[early_stop])"
      ],
      "metadata": {
        "colab": {
          "base_uri": "https://localhost:8080/"
        },
        "id": "IXDtGj07Q1G9",
        "outputId": "5c29f661-e76d-4f7a-a4a5-610376fe76ef"
      },
      "execution_count": 131,
      "outputs": [
        {
          "output_type": "stream",
          "name": "stdout",
          "text": [
            "Epoch 1/200\n",
            "14/14 [==============================] - 1s 16ms/step - loss: 0.6968 - accuracy: 0.4816 - val_loss: 0.6917 - val_accuracy: 0.5413\n",
            "Epoch 2/200\n",
            "14/14 [==============================] - 0s 5ms/step - loss: 0.6905 - accuracy: 0.5323 - val_loss: 0.6848 - val_accuracy: 0.5963\n",
            "Epoch 3/200\n",
            "14/14 [==============================] - 0s 3ms/step - loss: 0.6805 - accuracy: 0.5899 - val_loss: 0.6782 - val_accuracy: 0.6055\n",
            "Epoch 4/200\n",
            "14/14 [==============================] - 0s 3ms/step - loss: 0.6776 - accuracy: 0.6152 - val_loss: 0.6725 - val_accuracy: 0.6055\n",
            "Epoch 5/200\n",
            "14/14 [==============================] - 0s 4ms/step - loss: 0.6714 - accuracy: 0.6359 - val_loss: 0.6675 - val_accuracy: 0.6055\n",
            "Epoch 6/200\n",
            "14/14 [==============================] - 0s 6ms/step - loss: 0.6649 - accuracy: 0.6313 - val_loss: 0.6624 - val_accuracy: 0.6055\n",
            "Epoch 7/200\n",
            "14/14 [==============================] - 0s 3ms/step - loss: 0.6580 - accuracy: 0.6359 - val_loss: 0.6576 - val_accuracy: 0.6055\n",
            "Epoch 8/200\n",
            "14/14 [==============================] - 0s 5ms/step - loss: 0.6583 - accuracy: 0.6313 - val_loss: 0.6536 - val_accuracy: 0.6055\n",
            "Epoch 9/200\n",
            "14/14 [==============================] - 0s 4ms/step - loss: 0.6546 - accuracy: 0.6313 - val_loss: 0.6499 - val_accuracy: 0.6055\n",
            "Epoch 10/200\n",
            "14/14 [==============================] - 0s 4ms/step - loss: 0.6485 - accuracy: 0.6313 - val_loss: 0.6463 - val_accuracy: 0.6055\n",
            "Epoch 11/200\n",
            "14/14 [==============================] - 0s 4ms/step - loss: 0.6456 - accuracy: 0.6313 - val_loss: 0.6428 - val_accuracy: 0.6055\n",
            "Epoch 12/200\n",
            "14/14 [==============================] - 0s 5ms/step - loss: 0.6431 - accuracy: 0.6313 - val_loss: 0.6395 - val_accuracy: 0.6055\n",
            "Epoch 13/200\n",
            "14/14 [==============================] - 0s 5ms/step - loss: 0.6394 - accuracy: 0.6313 - val_loss: 0.6363 - val_accuracy: 0.6055\n",
            "Epoch 14/200\n",
            "14/14 [==============================] - 0s 4ms/step - loss: 0.6352 - accuracy: 0.6313 - val_loss: 0.6330 - val_accuracy: 0.6055\n",
            "Epoch 15/200\n",
            "14/14 [==============================] - 0s 4ms/step - loss: 0.6298 - accuracy: 0.6313 - val_loss: 0.6295 - val_accuracy: 0.6055\n",
            "Epoch 16/200\n",
            "14/14 [==============================] - 0s 5ms/step - loss: 0.6310 - accuracy: 0.6313 - val_loss: 0.6261 - val_accuracy: 0.6055\n",
            "Epoch 17/200\n",
            "14/14 [==============================] - 0s 5ms/step - loss: 0.6221 - accuracy: 0.6313 - val_loss: 0.6223 - val_accuracy: 0.6055\n",
            "Epoch 18/200\n",
            "14/14 [==============================] - 0s 5ms/step - loss: 0.6223 - accuracy: 0.6313 - val_loss: 0.6187 - val_accuracy: 0.6055\n",
            "Epoch 19/200\n",
            "14/14 [==============================] - 0s 4ms/step - loss: 0.6156 - accuracy: 0.6313 - val_loss: 0.6147 - val_accuracy: 0.6055\n",
            "Epoch 20/200\n",
            "14/14 [==============================] - 0s 5ms/step - loss: 0.6178 - accuracy: 0.6313 - val_loss: 0.6108 - val_accuracy: 0.6055\n",
            "Epoch 21/200\n",
            "14/14 [==============================] - 0s 4ms/step - loss: 0.6119 - accuracy: 0.6313 - val_loss: 0.6068 - val_accuracy: 0.6055\n",
            "Epoch 22/200\n",
            "14/14 [==============================] - 0s 4ms/step - loss: 0.6123 - accuracy: 0.6290 - val_loss: 0.6028 - val_accuracy: 0.6055\n",
            "Epoch 23/200\n",
            "14/14 [==============================] - 0s 5ms/step - loss: 0.6005 - accuracy: 0.6313 - val_loss: 0.5985 - val_accuracy: 0.6055\n",
            "Epoch 24/200\n",
            "14/14 [==============================] - 0s 4ms/step - loss: 0.6019 - accuracy: 0.6336 - val_loss: 0.5944 - val_accuracy: 0.6055\n",
            "Epoch 25/200\n",
            "14/14 [==============================] - 0s 5ms/step - loss: 0.5978 - accuracy: 0.6336 - val_loss: 0.5904 - val_accuracy: 0.6055\n",
            "Epoch 26/200\n",
            "14/14 [==============================] - 0s 5ms/step - loss: 0.5906 - accuracy: 0.6313 - val_loss: 0.5857 - val_accuracy: 0.6055\n",
            "Epoch 27/200\n",
            "14/14 [==============================] - 0s 5ms/step - loss: 0.5930 - accuracy: 0.6313 - val_loss: 0.5809 - val_accuracy: 0.6055\n",
            "Epoch 28/200\n",
            "14/14 [==============================] - 0s 5ms/step - loss: 0.5796 - accuracy: 0.6429 - val_loss: 0.5762 - val_accuracy: 0.6055\n",
            "Epoch 29/200\n",
            "14/14 [==============================] - 0s 5ms/step - loss: 0.5792 - accuracy: 0.6313 - val_loss: 0.5714 - val_accuracy: 0.6055\n",
            "Epoch 30/200\n",
            "14/14 [==============================] - 0s 4ms/step - loss: 0.5720 - accuracy: 0.6429 - val_loss: 0.5667 - val_accuracy: 0.6055\n",
            "Epoch 31/200\n",
            "14/14 [==============================] - 0s 5ms/step - loss: 0.5692 - accuracy: 0.6475 - val_loss: 0.5616 - val_accuracy: 0.6147\n",
            "Epoch 32/200\n",
            "14/14 [==============================] - 0s 5ms/step - loss: 0.5624 - accuracy: 0.6452 - val_loss: 0.5568 - val_accuracy: 0.6239\n",
            "Epoch 33/200\n",
            "14/14 [==============================] - 0s 5ms/step - loss: 0.5673 - accuracy: 0.6590 - val_loss: 0.5520 - val_accuracy: 0.6239\n",
            "Epoch 34/200\n",
            "14/14 [==============================] - 0s 4ms/step - loss: 0.5606 - accuracy: 0.6521 - val_loss: 0.5467 - val_accuracy: 0.6330\n",
            "Epoch 35/200\n",
            "14/14 [==============================] - 0s 5ms/step - loss: 0.5542 - accuracy: 0.6567 - val_loss: 0.5411 - val_accuracy: 0.6422\n",
            "Epoch 36/200\n",
            "14/14 [==============================] - 0s 4ms/step - loss: 0.5571 - accuracy: 0.6613 - val_loss: 0.5362 - val_accuracy: 0.6789\n",
            "Epoch 37/200\n",
            "14/14 [==============================] - 0s 4ms/step - loss: 0.5524 - accuracy: 0.6751 - val_loss: 0.5314 - val_accuracy: 0.6972\n",
            "Epoch 38/200\n",
            "14/14 [==============================] - 0s 5ms/step - loss: 0.5359 - accuracy: 0.6705 - val_loss: 0.5260 - val_accuracy: 0.6972\n",
            "Epoch 39/200\n",
            "14/14 [==============================] - 0s 4ms/step - loss: 0.5369 - accuracy: 0.6912 - val_loss: 0.5210 - val_accuracy: 0.7064\n",
            "Epoch 40/200\n",
            "14/14 [==============================] - 0s 5ms/step - loss: 0.5251 - accuracy: 0.7097 - val_loss: 0.5154 - val_accuracy: 0.7156\n",
            "Epoch 41/200\n",
            "14/14 [==============================] - 0s 6ms/step - loss: 0.5296 - accuracy: 0.7120 - val_loss: 0.5096 - val_accuracy: 0.7156\n",
            "Epoch 42/200\n",
            "14/14 [==============================] - 0s 4ms/step - loss: 0.5240 - accuracy: 0.7189 - val_loss: 0.5042 - val_accuracy: 0.7156\n",
            "Epoch 43/200\n",
            "14/14 [==============================] - 0s 4ms/step - loss: 0.5203 - accuracy: 0.6982 - val_loss: 0.4985 - val_accuracy: 0.7523\n",
            "Epoch 44/200\n",
            "14/14 [==============================] - 0s 5ms/step - loss: 0.5105 - accuracy: 0.7488 - val_loss: 0.4931 - val_accuracy: 0.7523\n",
            "Epoch 45/200\n",
            "14/14 [==============================] - 0s 4ms/step - loss: 0.5189 - accuracy: 0.7051 - val_loss: 0.4871 - val_accuracy: 0.7431\n",
            "Epoch 46/200\n",
            "14/14 [==============================] - 0s 4ms/step - loss: 0.5030 - accuracy: 0.7604 - val_loss: 0.4825 - val_accuracy: 0.7431\n",
            "Epoch 47/200\n",
            "14/14 [==============================] - 0s 4ms/step - loss: 0.4909 - accuracy: 0.7512 - val_loss: 0.4780 - val_accuracy: 0.7431\n",
            "Epoch 48/200\n",
            "14/14 [==============================] - 0s 5ms/step - loss: 0.4990 - accuracy: 0.7396 - val_loss: 0.4738 - val_accuracy: 0.7431\n",
            "Epoch 49/200\n",
            "14/14 [==============================] - 0s 5ms/step - loss: 0.4886 - accuracy: 0.7465 - val_loss: 0.4693 - val_accuracy: 0.7431\n",
            "Epoch 50/200\n",
            "14/14 [==============================] - 0s 4ms/step - loss: 0.4905 - accuracy: 0.7419 - val_loss: 0.4642 - val_accuracy: 0.7523\n",
            "Epoch 51/200\n",
            "14/14 [==============================] - 0s 5ms/step - loss: 0.4779 - accuracy: 0.7719 - val_loss: 0.4600 - val_accuracy: 0.7523\n",
            "Epoch 52/200\n",
            "14/14 [==============================] - 0s 4ms/step - loss: 0.4743 - accuracy: 0.7696 - val_loss: 0.4555 - val_accuracy: 0.7615\n",
            "Epoch 53/200\n",
            "14/14 [==============================] - 0s 5ms/step - loss: 0.4778 - accuracy: 0.7673 - val_loss: 0.4509 - val_accuracy: 0.7615\n",
            "Epoch 54/200\n",
            "14/14 [==============================] - 0s 4ms/step - loss: 0.4810 - accuracy: 0.7719 - val_loss: 0.4479 - val_accuracy: 0.7615\n",
            "Epoch 55/200\n",
            "14/14 [==============================] - 0s 3ms/step - loss: 0.4751 - accuracy: 0.7696 - val_loss: 0.4430 - val_accuracy: 0.7706\n",
            "Epoch 56/200\n",
            "14/14 [==============================] - 0s 3ms/step - loss: 0.4663 - accuracy: 0.7926 - val_loss: 0.4400 - val_accuracy: 0.7706\n",
            "Epoch 57/200\n",
            "14/14 [==============================] - 0s 4ms/step - loss: 0.4712 - accuracy: 0.7811 - val_loss: 0.4360 - val_accuracy: 0.7890\n",
            "Epoch 58/200\n",
            "14/14 [==============================] - 0s 3ms/step - loss: 0.4503 - accuracy: 0.7926 - val_loss: 0.4326 - val_accuracy: 0.7890\n",
            "Epoch 59/200\n",
            "14/14 [==============================] - 0s 5ms/step - loss: 0.4561 - accuracy: 0.7811 - val_loss: 0.4304 - val_accuracy: 0.7798\n",
            "Epoch 60/200\n",
            "14/14 [==============================] - 0s 3ms/step - loss: 0.4596 - accuracy: 0.7742 - val_loss: 0.4257 - val_accuracy: 0.7890\n",
            "Epoch 61/200\n",
            "14/14 [==============================] - 0s 4ms/step - loss: 0.4532 - accuracy: 0.7926 - val_loss: 0.4236 - val_accuracy: 0.7890\n",
            "Epoch 62/200\n",
            "14/14 [==============================] - 0s 5ms/step - loss: 0.4499 - accuracy: 0.7719 - val_loss: 0.4201 - val_accuracy: 0.7890\n",
            "Epoch 63/200\n",
            "14/14 [==============================] - 0s 4ms/step - loss: 0.4434 - accuracy: 0.7857 - val_loss: 0.4162 - val_accuracy: 0.7982\n",
            "Epoch 64/200\n",
            "14/14 [==============================] - 0s 5ms/step - loss: 0.4327 - accuracy: 0.8065 - val_loss: 0.4138 - val_accuracy: 0.8073\n",
            "Epoch 65/200\n",
            "14/14 [==============================] - 0s 3ms/step - loss: 0.4390 - accuracy: 0.7765 - val_loss: 0.4117 - val_accuracy: 0.8073\n",
            "Epoch 66/200\n",
            "14/14 [==============================] - 0s 3ms/step - loss: 0.4209 - accuracy: 0.8018 - val_loss: 0.4083 - val_accuracy: 0.8165\n",
            "Epoch 67/200\n",
            "14/14 [==============================] - 0s 4ms/step - loss: 0.4354 - accuracy: 0.7811 - val_loss: 0.4056 - val_accuracy: 0.8165\n",
            "Epoch 68/200\n",
            "14/14 [==============================] - 0s 4ms/step - loss: 0.4288 - accuracy: 0.8134 - val_loss: 0.4051 - val_accuracy: 0.8073\n",
            "Epoch 69/200\n",
            "14/14 [==============================] - 0s 5ms/step - loss: 0.4198 - accuracy: 0.8180 - val_loss: 0.4009 - val_accuracy: 0.8165\n",
            "Epoch 70/200\n",
            "14/14 [==============================] - 0s 3ms/step - loss: 0.4310 - accuracy: 0.7949 - val_loss: 0.3987 - val_accuracy: 0.8165\n",
            "Epoch 71/200\n",
            "14/14 [==============================] - 0s 5ms/step - loss: 0.4144 - accuracy: 0.7972 - val_loss: 0.3973 - val_accuracy: 0.8165\n",
            "Epoch 72/200\n",
            "14/14 [==============================] - 0s 3ms/step - loss: 0.4244 - accuracy: 0.7926 - val_loss: 0.3961 - val_accuracy: 0.8165\n",
            "Epoch 73/200\n",
            "14/14 [==============================] - 0s 4ms/step - loss: 0.4225 - accuracy: 0.8041 - val_loss: 0.3941 - val_accuracy: 0.8165\n",
            "Epoch 74/200\n",
            "14/14 [==============================] - 0s 3ms/step - loss: 0.4183 - accuracy: 0.8018 - val_loss: 0.3951 - val_accuracy: 0.8165\n",
            "Epoch 75/200\n",
            "14/14 [==============================] - 0s 3ms/step - loss: 0.4244 - accuracy: 0.8018 - val_loss: 0.3917 - val_accuracy: 0.8165\n",
            "Epoch 76/200\n",
            "14/14 [==============================] - 0s 3ms/step - loss: 0.4126 - accuracy: 0.8111 - val_loss: 0.3879 - val_accuracy: 0.8165\n",
            "Epoch 77/200\n",
            "14/14 [==============================] - 0s 3ms/step - loss: 0.4089 - accuracy: 0.8226 - val_loss: 0.3850 - val_accuracy: 0.8165\n",
            "Epoch 78/200\n",
            "14/14 [==============================] - 0s 3ms/step - loss: 0.4106 - accuracy: 0.8180 - val_loss: 0.3832 - val_accuracy: 0.8165\n",
            "Epoch 79/200\n",
            "14/14 [==============================] - 0s 3ms/step - loss: 0.4023 - accuracy: 0.8018 - val_loss: 0.3846 - val_accuracy: 0.8165\n",
            "Epoch 80/200\n",
            "14/14 [==============================] - 0s 3ms/step - loss: 0.4085 - accuracy: 0.8111 - val_loss: 0.3832 - val_accuracy: 0.8165\n",
            "Epoch 81/200\n",
            "14/14 [==============================] - 0s 5ms/step - loss: 0.4098 - accuracy: 0.8157 - val_loss: 0.3816 - val_accuracy: 0.8165\n",
            "Epoch 82/200\n",
            "14/14 [==============================] - 0s 5ms/step - loss: 0.4234 - accuracy: 0.8065 - val_loss: 0.3786 - val_accuracy: 0.8257\n",
            "Epoch 83/200\n",
            "14/14 [==============================] - 0s 5ms/step - loss: 0.4120 - accuracy: 0.8088 - val_loss: 0.3777 - val_accuracy: 0.8349\n",
            "Epoch 84/200\n",
            "14/14 [==============================] - 0s 5ms/step - loss: 0.4074 - accuracy: 0.8226 - val_loss: 0.3787 - val_accuracy: 0.8165\n",
            "Epoch 85/200\n",
            "14/14 [==============================] - 0s 5ms/step - loss: 0.4008 - accuracy: 0.7949 - val_loss: 0.3772 - val_accuracy: 0.8349\n",
            "Epoch 86/200\n",
            "14/14 [==============================] - 0s 3ms/step - loss: 0.4204 - accuracy: 0.8088 - val_loss: 0.3742 - val_accuracy: 0.8349\n",
            "Epoch 87/200\n",
            "14/14 [==============================] - 0s 4ms/step - loss: 0.3968 - accuracy: 0.8180 - val_loss: 0.3748 - val_accuracy: 0.8349\n",
            "Epoch 88/200\n",
            "14/14 [==============================] - 0s 4ms/step - loss: 0.3893 - accuracy: 0.8295 - val_loss: 0.3724 - val_accuracy: 0.8349\n",
            "Epoch 89/200\n",
            "14/14 [==============================] - 0s 5ms/step - loss: 0.3994 - accuracy: 0.8249 - val_loss: 0.3747 - val_accuracy: 0.8349\n",
            "Epoch 90/200\n",
            "14/14 [==============================] - 0s 4ms/step - loss: 0.3895 - accuracy: 0.8226 - val_loss: 0.3717 - val_accuracy: 0.8349\n",
            "Epoch 91/200\n",
            "14/14 [==============================] - 0s 5ms/step - loss: 0.3892 - accuracy: 0.8134 - val_loss: 0.3711 - val_accuracy: 0.8349\n",
            "Epoch 92/200\n",
            "14/14 [==============================] - 0s 5ms/step - loss: 0.3985 - accuracy: 0.8180 - val_loss: 0.3704 - val_accuracy: 0.8349\n",
            "Epoch 93/200\n",
            "14/14 [==============================] - 0s 5ms/step - loss: 0.3812 - accuracy: 0.8203 - val_loss: 0.3684 - val_accuracy: 0.8349\n",
            "Epoch 94/200\n",
            "14/14 [==============================] - 0s 5ms/step - loss: 0.4029 - accuracy: 0.8088 - val_loss: 0.3701 - val_accuracy: 0.8349\n",
            "Epoch 95/200\n",
            "14/14 [==============================] - 0s 4ms/step - loss: 0.3924 - accuracy: 0.8134 - val_loss: 0.3679 - val_accuracy: 0.8349\n",
            "Epoch 96/200\n",
            "14/14 [==============================] - 0s 5ms/step - loss: 0.4006 - accuracy: 0.7995 - val_loss: 0.3661 - val_accuracy: 0.8349\n",
            "Epoch 97/200\n",
            "14/14 [==============================] - 0s 5ms/step - loss: 0.3967 - accuracy: 0.8180 - val_loss: 0.3633 - val_accuracy: 0.8349\n",
            "Epoch 98/200\n",
            "14/14 [==============================] - 0s 4ms/step - loss: 0.3905 - accuracy: 0.8065 - val_loss: 0.3642 - val_accuracy: 0.8349\n",
            "Epoch 99/200\n",
            "14/14 [==============================] - 0s 4ms/step - loss: 0.3853 - accuracy: 0.8249 - val_loss: 0.3646 - val_accuracy: 0.8349\n",
            "Epoch 99: early stopping\n"
          ]
        }
      ]
    },
    {
      "cell_type": "code",
      "source": [
        "plt.plot(history1.history['loss'], label=\"LOSS\")\n",
        "plt.plot(history1.history['accuracy'], label=\"ACCURACY\")\n",
        "plt.legend(loc='best')\n",
        "plt.show()"
      ],
      "metadata": {
        "colab": {
          "base_uri": "https://localhost:8080/",
          "height": 265
        },
        "id": "QaSSh8aKQ2qd",
        "outputId": "88f5da39-b0a1-408d-b152-8dc157206f19"
      },
      "execution_count": 132,
      "outputs": [
        {
          "output_type": "display_data",
          "data": {
            "text/plain": [
              "<Figure size 432x288 with 1 Axes>"
            ],
            "image/png": "[encoded data removed]"
          },
          "metadata": {
            "needs_background": "light"
          }
        }
      ]
    },
    {
      "cell_type": "code",
      "source": [
        "y_pred_prob = model.predict(X_test)"
      ],
      "metadata": {
        "id": "OH7OSXL9REuB"
      },
      "execution_count": 133,
      "outputs": []
    },
    {
      "cell_type": "code",
      "source": [
        "y_pred = []\n",
        "for prob in y_pred_prob:\n",
        "    if prob >= 0.5:\n",
        "        y_pred.append(1)\n",
        "    else:\n",
        "        y_pred.append(0)"
      ],
      "metadata": {
        "id": "LQ21keKKRxFN"
      },
      "execution_count": 134,
      "outputs": []
    },
    {
      "cell_type": "code",
      "source": [
        "print(confusion_matrix(y_test, y_pred))"
      ],
      "metadata": {
        "colab": {
          "base_uri": "https://localhost:8080/"
        },
        "id": "9rrJn8PzRzOl",
        "outputId": "75b2d3c2-d52e-481a-fe3d-8304dffca457"
      },
      "execution_count": 135,
      "outputs": [
        {
          "output_type": "stream",
          "name": "stdout",
          "text": [
            "[[31 12]\n",
            " [ 6 60]]\n"
          ]
        }
      ]
    },
    {
      "cell_type": "code",
      "source": [
        "print(classification_report(y_test, y_pred))"
      ],
      "metadata": {
        "colab": {
          "base_uri": "https://localhost:8080/"
        },
        "id": "dub-RpoXR10o",
        "outputId": "5aa4e7f7-7b96-411b-aa3b-bf065b1ed5d7"
      },
      "execution_count": 136,
      "outputs": [
        {
          "output_type": "stream",
          "name": "stdout",
          "text": [
            "              precision    recall  f1-score   support\n",
            "\n",
            "           0       0.84      0.72      0.77        43\n",
            "           1       0.83      0.91      0.87        66\n",
            "\n",
            "    accuracy                           0.83       109\n",
            "   macro avg       0.84      0.82      0.82       109\n",
            "weighted avg       0.84      0.83      0.83       109\n",
            "\n"
          ]
        }
      ]
    },
    {
      "cell_type": "code",
      "source": [
        "roc_auc = roc_auc_score(y_test, y_pred)\n",
        "print(\"ROC-AUC Score is\", np.round(roc_auc,2))"
      ],
      "metadata": {
        "colab": {
          "base_uri": "https://localhost:8080/"
        },
        "id": "s_w5F5wxSUUZ",
        "outputId": "393f2a0b-87b2-468f-db9a-d99afd5a794f"
      },
      "execution_count": 138,
      "outputs": [
        {
          "output_type": "stream",
          "name": "stdout",
          "text": [
            "ROC-AUC Score is 0.82\n"
          ]
        }
      ]
    },
    {
      "cell_type": "code",
      "source": [
        "#One Hot Encoding target\n",
        "y1 = np.array(train['IsUnderRisk']).reshape(-1,1)\n",
        "\n",
        "encoder = OneHotEncoder(sparse=False)\n",
        "y = encoder.fit_transform(y1)"
      ],
      "metadata": {
        "id": "DdoVbfc4T7aV"
      },
      "execution_count": 139,
      "outputs": []
    },
    {
      "cell_type": "code",
      "source": [
        "x_train, x_test, y_train, y_test =  train_test_split(X, y, test_size=0.20)"
      ],
      "metadata": {
        "id": "RMNyj_TUUrTO"
      },
      "execution_count": 140,
      "outputs": []
    },
    {
      "cell_type": "markdown",
      "source": [
        "## DNN - 2"
      ],
      "metadata": {
        "id": "UHcSnIbuU3W8"
      }
    },
    {
      "cell_type": "code",
      "source": [
        "model = tf.keras.Sequential()\n",
        "model.add(Dense(64, input_shape=(7,),activation='relu'))\n",
        "model.add(Dense(32, activation='relu'))\n",
        "model.add(Dense(16, activation='relu'))\n",
        "model.add(Dense(2, activation='softmax'))"
      ],
      "metadata": {
        "id": "io1fPzfrU2UC"
      },
      "execution_count": 147,
      "outputs": []
    },
    {
      "cell_type": "code",
      "source": [
        "model.compile(optimizer ='sgd', loss = 'binary_crossentropy', metrics = ['accuracy'])"
      ],
      "metadata": {
        "id": "B4J0UBhaU_UL"
      },
      "execution_count": 148,
      "outputs": []
    },
    {
      "cell_type": "code",
      "source": [
        "hist2 = model.fit(x=x_train, y=y_train, epochs=100)"
      ],
      "metadata": {
        "colab": {
          "base_uri": "https://localhost:8080/"
        },
        "id": "fXTuShZqVBMI",
        "outputId": "ab25a1ee-1b36-4179-f43a-f54368ba6713"
      },
      "execution_count": 149,
      "outputs": [
        {
          "output_type": "stream",
          "name": "stdout",
          "text": [
            "Epoch 1/100\n",
            "14/14 [==============================] - 0s 2ms/step - loss: 0.6782 - accuracy: 0.6359\n",
            "Epoch 2/100\n",
            "14/14 [==============================] - 0s 2ms/step - loss: 0.6732 - accuracy: 0.6359\n",
            "Epoch 3/100\n",
            "14/14 [==============================] - 0s 2ms/step - loss: 0.6682 - accuracy: 0.6359\n",
            "Epoch 4/100\n",
            "14/14 [==============================] - 0s 2ms/step - loss: 0.6632 - accuracy: 0.6359\n",
            "Epoch 5/100\n",
            "14/14 [==============================] - 0s 2ms/step - loss: 0.6584 - accuracy: 0.6359\n",
            "Epoch 6/100\n",
            "14/14 [==============================] - 0s 2ms/step - loss: 0.6536 - accuracy: 0.6359\n",
            "Epoch 7/100\n",
            "14/14 [==============================] - 0s 2ms/step - loss: 0.6490 - accuracy: 0.6359\n",
            "Epoch 8/100\n",
            "14/14 [==============================] - 0s 2ms/step - loss: 0.6444 - accuracy: 0.6359\n",
            "Epoch 9/100\n",
            "14/14 [==============================] - 0s 2ms/step - loss: 0.6401 - accuracy: 0.6359\n",
            "Epoch 10/100\n",
            "14/14 [==============================] - 0s 2ms/step - loss: 0.6358 - accuracy: 0.6359\n",
            "Epoch 11/100\n",
            "14/14 [==============================] - 0s 2ms/step - loss: 0.6318 - accuracy: 0.6359\n",
            "Epoch 12/100\n",
            "14/14 [==============================] - 0s 2ms/step - loss: 0.6280 - accuracy: 0.6359\n",
            "Epoch 13/100\n",
            "14/14 [==============================] - 0s 2ms/step - loss: 0.6243 - accuracy: 0.6359\n",
            "Epoch 14/100\n",
            "14/14 [==============================] - 0s 2ms/step - loss: 0.6207 - accuracy: 0.6359\n",
            "Epoch 15/100\n",
            "14/14 [==============================] - 0s 2ms/step - loss: 0.6172 - accuracy: 0.6359\n",
            "Epoch 16/100\n",
            "14/14 [==============================] - 0s 2ms/step - loss: 0.6135 - accuracy: 0.6359\n",
            "Epoch 17/100\n",
            "14/14 [==============================] - 0s 2ms/step - loss: 0.6100 - accuracy: 0.6359\n",
            "Epoch 18/100\n",
            "14/14 [==============================] - 0s 2ms/step - loss: 0.6065 - accuracy: 0.6359\n",
            "Epoch 19/100\n",
            "14/14 [==============================] - 0s 2ms/step - loss: 0.6029 - accuracy: 0.6359\n",
            "Epoch 20/100\n",
            "14/14 [==============================] - 0s 2ms/step - loss: 0.5995 - accuracy: 0.6359\n",
            "Epoch 21/100\n",
            "14/14 [==============================] - 0s 2ms/step - loss: 0.5959 - accuracy: 0.6359\n",
            "Epoch 22/100\n",
            "14/14 [==============================] - 0s 2ms/step - loss: 0.5924 - accuracy: 0.6359\n",
            "Epoch 23/100\n",
            "14/14 [==============================] - 0s 2ms/step - loss: 0.5889 - accuracy: 0.6359\n",
            "Epoch 24/100\n",
            "14/14 [==============================] - 0s 2ms/step - loss: 0.5855 - accuracy: 0.6359\n",
            "Epoch 25/100\n",
            "14/14 [==============================] - 0s 2ms/step - loss: 0.5819 - accuracy: 0.6359\n",
            "Epoch 26/100\n",
            "14/14 [==============================] - 0s 2ms/step - loss: 0.5783 - accuracy: 0.6359\n",
            "Epoch 27/100\n",
            "14/14 [==============================] - 0s 2ms/step - loss: 0.5747 - accuracy: 0.6359\n",
            "Epoch 28/100\n",
            "14/14 [==============================] - 0s 2ms/step - loss: 0.5710 - accuracy: 0.6359\n",
            "Epoch 29/100\n",
            "14/14 [==============================] - 0s 2ms/step - loss: 0.5672 - accuracy: 0.6359\n",
            "Epoch 30/100\n",
            "14/14 [==============================] - 0s 2ms/step - loss: 0.5634 - accuracy: 0.6359\n",
            "Epoch 31/100\n",
            "14/14 [==============================] - 0s 2ms/step - loss: 0.5596 - accuracy: 0.6359\n",
            "Epoch 32/100\n",
            "14/14 [==============================] - 0s 2ms/step - loss: 0.5558 - accuracy: 0.6359\n",
            "Epoch 33/100\n",
            "14/14 [==============================] - 0s 2ms/step - loss: 0.5518 - accuracy: 0.6359\n",
            "Epoch 34/100\n",
            "14/14 [==============================] - 0s 2ms/step - loss: 0.5479 - accuracy: 0.6382\n",
            "Epoch 35/100\n",
            "14/14 [==============================] - 0s 2ms/step - loss: 0.5439 - accuracy: 0.6382\n",
            "Epoch 36/100\n",
            "14/14 [==============================] - 0s 2ms/step - loss: 0.5399 - accuracy: 0.6475\n",
            "Epoch 37/100\n",
            "14/14 [==============================] - 0s 2ms/step - loss: 0.5356 - accuracy: 0.6544\n",
            "Epoch 38/100\n",
            "14/14 [==============================] - 0s 2ms/step - loss: 0.5318 - accuracy: 0.6705\n",
            "Epoch 39/100\n",
            "14/14 [==============================] - 0s 2ms/step - loss: 0.5274 - accuracy: 0.6843\n",
            "Epoch 40/100\n",
            "14/14 [==============================] - 0s 2ms/step - loss: 0.5232 - accuracy: 0.7074\n",
            "Epoch 41/100\n",
            "14/14 [==============================] - 0s 2ms/step - loss: 0.5191 - accuracy: 0.7074\n",
            "Epoch 42/100\n",
            "14/14 [==============================] - 0s 2ms/step - loss: 0.5148 - accuracy: 0.7143\n",
            "Epoch 43/100\n",
            "14/14 [==============================] - 0s 2ms/step - loss: 0.5105 - accuracy: 0.7189\n",
            "Epoch 44/100\n",
            "14/14 [==============================] - 0s 2ms/step - loss: 0.5061 - accuracy: 0.7327\n",
            "Epoch 45/100\n",
            "14/14 [==============================] - 0s 2ms/step - loss: 0.5018 - accuracy: 0.7465\n",
            "Epoch 46/100\n",
            "14/14 [==============================] - 0s 2ms/step - loss: 0.4976 - accuracy: 0.7512\n",
            "Epoch 47/100\n",
            "14/14 [==============================] - 0s 2ms/step - loss: 0.4936 - accuracy: 0.7627\n",
            "Epoch 48/100\n",
            "14/14 [==============================] - 0s 2ms/step - loss: 0.4892 - accuracy: 0.7650\n",
            "Epoch 49/100\n",
            "14/14 [==============================] - 0s 2ms/step - loss: 0.4850 - accuracy: 0.7673\n",
            "Epoch 50/100\n",
            "14/14 [==============================] - 0s 2ms/step - loss: 0.4810 - accuracy: 0.7719\n",
            "Epoch 51/100\n",
            "14/14 [==============================] - 0s 2ms/step - loss: 0.4771 - accuracy: 0.7719\n",
            "Epoch 52/100\n",
            "14/14 [==============================] - 0s 2ms/step - loss: 0.4730 - accuracy: 0.7696\n",
            "Epoch 53/100\n",
            "14/14 [==============================] - 0s 2ms/step - loss: 0.4692 - accuracy: 0.7765\n",
            "Epoch 54/100\n",
            "14/14 [==============================] - 0s 2ms/step - loss: 0.4655 - accuracy: 0.7673\n",
            "Epoch 55/100\n",
            "14/14 [==============================] - 0s 2ms/step - loss: 0.4621 - accuracy: 0.7788\n",
            "Epoch 56/100\n",
            "14/14 [==============================] - 0s 2ms/step - loss: 0.4580 - accuracy: 0.7765\n",
            "Epoch 57/100\n",
            "14/14 [==============================] - 0s 2ms/step - loss: 0.4547 - accuracy: 0.7811\n",
            "Epoch 58/100\n",
            "14/14 [==============================] - 0s 2ms/step - loss: 0.4514 - accuracy: 0.7903\n",
            "Epoch 59/100\n",
            "14/14 [==============================] - 0s 2ms/step - loss: 0.4481 - accuracy: 0.7926\n",
            "Epoch 60/100\n",
            "14/14 [==============================] - 0s 2ms/step - loss: 0.4448 - accuracy: 0.7926\n",
            "Epoch 61/100\n",
            "14/14 [==============================] - 0s 2ms/step - loss: 0.4416 - accuracy: 0.7926\n",
            "Epoch 62/100\n",
            "14/14 [==============================] - 0s 3ms/step - loss: 0.4384 - accuracy: 0.7949\n",
            "Epoch 63/100\n",
            "14/14 [==============================] - 0s 2ms/step - loss: 0.4355 - accuracy: 0.7972\n",
            "Epoch 64/100\n",
            "14/14 [==============================] - 0s 2ms/step - loss: 0.4327 - accuracy: 0.7972\n",
            "Epoch 65/100\n",
            "14/14 [==============================] - 0s 2ms/step - loss: 0.4298 - accuracy: 0.7972\n",
            "Epoch 66/100\n",
            "14/14 [==============================] - 0s 2ms/step - loss: 0.4272 - accuracy: 0.7995\n",
            "Epoch 67/100\n",
            "14/14 [==============================] - 0s 2ms/step - loss: 0.4244 - accuracy: 0.8018\n",
            "Epoch 68/100\n",
            "14/14 [==============================] - 0s 3ms/step - loss: 0.4216 - accuracy: 0.8018\n",
            "Epoch 69/100\n",
            "14/14 [==============================] - 0s 2ms/step - loss: 0.4192 - accuracy: 0.8018\n",
            "Epoch 70/100\n",
            "14/14 [==============================] - 0s 2ms/step - loss: 0.4172 - accuracy: 0.7995\n",
            "Epoch 71/100\n",
            "14/14 [==============================] - 0s 2ms/step - loss: 0.4139 - accuracy: 0.8018\n",
            "Epoch 72/100\n",
            "14/14 [==============================] - 0s 3ms/step - loss: 0.4119 - accuracy: 0.8018\n",
            "Epoch 73/100\n",
            "14/14 [==============================] - 0s 4ms/step - loss: 0.4100 - accuracy: 0.8041\n",
            "Epoch 74/100\n",
            "14/14 [==============================] - 0s 2ms/step - loss: 0.4075 - accuracy: 0.8065\n",
            "Epoch 75/100\n",
            "14/14 [==============================] - 0s 2ms/step - loss: 0.4053 - accuracy: 0.8065\n",
            "Epoch 76/100\n",
            "14/14 [==============================] - 0s 2ms/step - loss: 0.4034 - accuracy: 0.8134\n",
            "Epoch 77/100\n",
            "14/14 [==============================] - 0s 2ms/step - loss: 0.4009 - accuracy: 0.8088\n",
            "Epoch 78/100\n",
            "14/14 [==============================] - 0s 2ms/step - loss: 0.3988 - accuracy: 0.8041\n",
            "Epoch 79/100\n",
            "14/14 [==============================] - 0s 2ms/step - loss: 0.3971 - accuracy: 0.8088\n",
            "Epoch 80/100\n",
            "14/14 [==============================] - 0s 2ms/step - loss: 0.3951 - accuracy: 0.8134\n",
            "Epoch 81/100\n",
            "14/14 [==============================] - 0s 2ms/step - loss: 0.3932 - accuracy: 0.8088\n",
            "Epoch 82/100\n",
            "14/14 [==============================] - 0s 2ms/step - loss: 0.3915 - accuracy: 0.8157\n",
            "Epoch 83/100\n",
            "14/14 [==============================] - 0s 2ms/step - loss: 0.3896 - accuracy: 0.8203\n",
            "Epoch 84/100\n",
            "14/14 [==============================] - 0s 2ms/step - loss: 0.3882 - accuracy: 0.8111\n",
            "Epoch 85/100\n",
            "14/14 [==============================] - 0s 2ms/step - loss: 0.3862 - accuracy: 0.8180\n",
            "Epoch 86/100\n",
            "14/14 [==============================] - 0s 2ms/step - loss: 0.3846 - accuracy: 0.8157\n",
            "Epoch 87/100\n",
            "14/14 [==============================] - 0s 2ms/step - loss: 0.3832 - accuracy: 0.8272\n",
            "Epoch 88/100\n",
            "14/14 [==============================] - 0s 2ms/step - loss: 0.3820 - accuracy: 0.8226\n",
            "Epoch 89/100\n",
            "14/14 [==============================] - 0s 2ms/step - loss: 0.3805 - accuracy: 0.8226\n",
            "Epoch 90/100\n",
            "14/14 [==============================] - 0s 2ms/step - loss: 0.3789 - accuracy: 0.8249\n",
            "Epoch 91/100\n",
            "14/14 [==============================] - 0s 2ms/step - loss: 0.3778 - accuracy: 0.8226\n",
            "Epoch 92/100\n",
            "14/14 [==============================] - 0s 2ms/step - loss: 0.3761 - accuracy: 0.8318\n",
            "Epoch 93/100\n",
            "14/14 [==============================] - 0s 2ms/step - loss: 0.3752 - accuracy: 0.8272\n",
            "Epoch 94/100\n",
            "14/14 [==============================] - 0s 2ms/step - loss: 0.3739 - accuracy: 0.8272\n",
            "Epoch 95/100\n",
            "14/14 [==============================] - 0s 2ms/step - loss: 0.3730 - accuracy: 0.8318\n",
            "Epoch 96/100\n",
            "14/14 [==============================] - 0s 2ms/step - loss: 0.3716 - accuracy: 0.8387\n",
            "Epoch 97/100\n",
            "14/14 [==============================] - 0s 2ms/step - loss: 0.3704 - accuracy: 0.8249\n",
            "Epoch 98/100\n",
            "14/14 [==============================] - 0s 2ms/step - loss: 0.3695 - accuracy: 0.8387\n",
            "Epoch 99/100\n",
            "14/14 [==============================] - 0s 2ms/step - loss: 0.3684 - accuracy: 0.8364\n",
            "Epoch 100/100\n",
            "14/14 [==============================] - 0s 2ms/step - loss: 0.3679 - accuracy: 0.8341\n"
          ]
        }
      ]
    },
    {
      "cell_type": "code",
      "source": [
        "plt.plot(range(100), hist2.history['loss'], label=\"LOSS\")\n",
        "plt.plot(range(100), hist2.history['accuracy'], label=\"ACCURACY\")\n",
        "plt.legend(loc='best')\n",
        "plt.show()"
      ],
      "metadata": {
        "colab": {
          "base_uri": "https://localhost:8080/",
          "height": 265
        },
        "id": "9RTBwKAvVDP6",
        "outputId": "8096e62b-9754-4846-afab-9f7194c69141"
      },
      "execution_count": 150,
      "outputs": [
        {
          "output_type": "display_data",
          "data": {
            "text/plain": [
              "<Figure size 432x288 with 1 Axes>"
            ],
            "image/png": "[encoded data removed]"
          },
          "metadata": {
            "needs_background": "light"
          }
        }
      ]
    },
    {
      "cell_type": "code",
      "source": [
        "y_pred = model.predict(x_test)"
      ],
      "metadata": {
        "id": "XFtLJZgwVIZ6"
      },
      "execution_count": 151,
      "outputs": []
    },
    {
      "cell_type": "code",
      "source": [
        "ll = log_loss(y_test, y_pred)\n",
        "print(\"Log-Loss Error for the DNN model-2 is\", np.round(ll,2))"
      ],
      "metadata": {
        "colab": {
          "base_uri": "https://localhost:8080/"
        },
        "id": "TdTC_a5CVKaG",
        "outputId": "bfab97ab-1367-403c-ec3f-1d1b86402db4"
      },
      "execution_count": 152,
      "outputs": [
        {
          "output_type": "stream",
          "name": "stdout",
          "text": [
            "Log-Loss Error for the DNN model-2 is 0.46\n"
          ]
        }
      ]
    },
    {
      "cell_type": "code",
      "source": [
        ""
      ],
      "metadata": {
        "id": "OgIPobu5VMM7"
      },
      "execution_count": null,
      "outputs": []
    }
  ]
}